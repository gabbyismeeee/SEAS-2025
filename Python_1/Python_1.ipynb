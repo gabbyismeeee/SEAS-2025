{
 "cells": [
   {
   "cell_type": "markdown",
   "metadata": {},
   "source": [
    "# Introduction to Python (giới thiệu lập trình Python)\n",
    "\n",
    "Authors: Khanh Vu (UCI), Duc Hoang (MIT). Adapted from: Mathieu Blondel. \n",
    "\n",
    "# Python 1a: Welcome\n",
    "\n",
    "Welcome to the first practical work of the week! In this practical, we will learn about the programming language Python as well as NumPy and Matplotlib, two fundamental tools for data science and machine learning in Python.\n",
    "\n",
    "Chào mừng đến với bài thực hành đầu tiên của tuần! Trong bài thực hành này, chúng ta sẽ tìm hiểu về ngôn ngữ lập trình Python cũng như NumPy và Matplotlib, hai công cụ cơ bản cho khoa học dữ liệu và học máy.\n",
    "\n",
    "This week, we will use Jupyter notebooks and Google colab as the primary way to practice machine learning. Notebooks are a great way to mix executable code with rich contents (HTML, images, equations written in LaTeX). Colab allows to run notebooks on the cloud for free without any prior installation, while leveraging the power of [GPUs](https://en.wikipedia.org/wiki/Graphics_processing_unit).\n",
    "\n",
    "Tuần này, chúng ta sẽ sử dụng Jupyter Notebooks và Google Colab làm phương thức chính để thực hành học máy. Notebooks là một cách tuyệt vời để kết hợp code có thể thực thi với nội dung phong phú (HTML, hình ảnh, các phương trình viết bằng LaTeX). Colab cho phép chạy notebooks trên đám mây miễn phí mà không cần cài đặt trước, trong khi vẫn tận dụng sức mạnh của GPUs.\n",
    "\n",
    "The document that you are reading is not a static web page, but an interactive environment called a notebook, that lets you write and execute code. Notebooks consist of so-called code cells, blocks of one or more Python instructions. For example, here is a code cell that stores the result of a computation (the number of seconds in a day) in a variable and prints its value:\n",
    "\n",
    "Tài liệu bạn đang đọc không phải là một trang web tĩnh, mà là một môi trường tương tác được gọi là notebook, cho phép bạn viết và thực thi mã lệnh. Các notebook bao gồm các ô mã (code cells), là các khối chứa một hoặc nhiều lệnh Python. Ví dụ, dưới đây là một ô mã lưu kết quả của một phép tính (số giây trong một ngày) vào một biến và in ra giá trị của nó:"
   ]
  },
  {
   "cell_type": "code",
   "execution_count": null,
   "metadata": {},
   "outputs": [],
   "source": [
    "seconds_in_a_day = 24 * 60 * 60\n",
    "seconds_in_a_day"
   ]
  },
  {
   "cell_type": "markdown",
   "metadata": {},
   "source": [
    "Click on the \"play\" button to execute the cell. You should be able to see the result. Alternatively, you can also execute the cell by pressing Ctrl + Enter if you are on Windows / Linux or Command + Enter if you are on a Mac.\n",
    "\n",
    "Nhấn vào nút \"play\" để chạy ô mã. Bạn sẽ thấy kết quả hiển thị. Ngoài ra, bạn cũng có thể chạy ô mã bằng cách nhấn Ctrl + Enter nếu bạn đang sử dụng Windows / Linux hoặc Command + Enter nếu bạn đang sử dụng Mac."
   ]
  },
  {
   "cell_type": "markdown",
   "metadata": {},
   "source": [
    "Variables that you defined in one cell can later be used in other cells:\n",
    "\n",
    "Các biến mà bạn đã định nghĩa trong một ô có thể được sử dụng sau đó trong các ô khác:"
   ]
  },
  {
   "cell_type": "code",
   "execution_count": null,
   "metadata": {},
   "outputs": [],
   "source": [
    "seconds_in_a_week = 7 * seconds_in_a_day\n",
    "seconds_in_a_week"
   ]
  },
  {
   "cell_type": "markdown",
   "metadata": {},
   "source": [
    "Note that the order of execution is important. For instance, if we do not run the cell storing seconds_in_a_day beforehand, the above cell will raise an error, as it depends on this variable. To make sure that you run all the cells in the correct order, you can also click on \"Runtime\" in the top-level menu, then \"Run all\".\n",
    "\n",
    "Lưu ý rằng thứ tự thực thi là quan trọng. Ví dụ, nếu chúng ta không chạy ô mã lưu giá trị seconds_in_a_day trước, thì ô mã phía trên sẽ phát sinh lỗi vì nó phụ thuộc vào biến này. Để đảm bảo rằng bạn chạy tất cả các ô mã theo đúng thứ tự, bạn cũng có thể nhấp vào \"Runtime\" trong menu ở trên, sau đó chọn \"Run all\"."
   ]
  },
  {
   "cell_type": "markdown",
   "metadata": {},
   "source": [
    "**Exercise.** Add a cell below this cell: click on this cell then click on \"+ Code\". In the new cell, compute the number of seconds in a year by reusing the variable *seconds_in_a_day*. Run the new cell.\n",
    "\n",
    "Bài tập. Thêm một ô mã bên dưới ô này: nhấp vào ô này sau đó nhấp vào “+ Code”. Trong ô mới, hãy tính số giây trong một năm bằng cách tái sử dụng biến seconds_in_a_day. Chạy ô mới."
   ]
  },
  {
   "cell_type": "markdown",
   "metadata": {},
   "source": [
    "### Integers / Số Nguyên"
   ]
  },
  {
   "cell_type": "markdown",
   "metadata": {},
   "source": [
    "* An integer is a whole number that could hold a zero, positive or negative value.\n",
    "* Integers can be of any length, it is only limited by the memory available."
   ]
  },
  {
   "cell_type": "markdown",
   "metadata": {},
   "source": [
    "* Số nguyên là một số nguyên có thể có giá trị bằng không, dương hoặc âm.\n",
    "* Số nguyên có thể có độ dài bất kỳ, chỉ bị giới hạn bởi bộ nhớ có sẵn."
   ]
  },
  {
   "cell_type": "code",
   "execution_count": null,
   "metadata": {},
   "outputs": [],
   "source": [
    "a = 12345678901234567890123456789012345678901234567890\n",
    "print(a)"
   ]
  },
  {
   "cell_type": "code",
   "execution_count": null,
   "metadata": {},
   "outputs": [],
   "source": [
    "b = a + 11\n",
    "print(b)"
   ]
  },
  {
   "cell_type": "markdown",
   "metadata": {},
   "source": [
    "- The underlying type of a Python integer, irrespective of the base used to specify it, is called `int`.\n",
    "- We can use the `type()` function to determine the type of any Python data item."
   ]
  },
  {
   "cell_type": "markdown",
   "metadata": {},
   "source": [
    "- Kiểu cơ bản của một số nguyên trong Python, bất kể cơ số được sử dụng để xác định nó, được gọi là int.\n",
    "- Chúng ta có thể sử dụng hàm type() để xác định kiểu của bất kỳ dữ liệu nào trong Python."
   ]
  },
  {
   "cell_type": "code",
   "execution_count": null,
   "metadata": {},
   "outputs": [],
   "source": [
    "type(10)"
   ]
  },
  {
   "cell_type": "code",
   "execution_count": null,
   "metadata": {},
   "outputs": [],
   "source": [
    "type(b)"
   ]
  },
  {
   "cell_type": "markdown",
   "metadata": {},
   "source": [
    "- We can also use the `isinstance()` function to check if a data item belongs to a particular data type."
   ]
  },
  {
   "cell_type": "markdown",
   "metadata": {},
   "source": [
    "- Chúng ta cũng có thể sử dụng hàm isinstance() để kiểm tra xem một dữ liệu có thuộc một kiểu dữ liệu cụ thể hay không."
   ]
  },
  {
   "cell_type": "code",
   "execution_count": null,
   "metadata": {},
   "outputs": [],
   "source": [
    "a = 12345678901234567890123456789012345678901234567890\n",
    "print(a, \"is of type\", type(a))\n",
    "print(a, \"is integer?\", isinstance(a, int))"
   ]
  },
  {
   "cell_type": "markdown",
   "metadata": {},
   "source": [
    "#### Integer Arithmetic / Số học số nguyên"
   ]
  },
  {
   "cell_type": "markdown",
   "metadata": {},
   "source": [
    "In Python, __variables are not declared__. The type of a variable is determined when it is assigned a value."
   ]
  },
  {
   "cell_type": "markdown",
   "metadata": {},
   "source": [
    "Trong Python, biến không cần khai báo. Kiểu của một biến được xác định khi nó được gán một giá trị."
   ]
  },
  {
   "cell_type": "code",
   "execution_count": null,
   "metadata": {},
   "outputs": [],
   "source": [
    "a = 1\n",
    "b = 2\n",
    "c = 3\n",
    "d = 4\n",
    "e = 5\n",
    "f = 6\n",
    "g = 7\n",
    "h = 8"
   ]
  },
  {
   "cell_type": "code",
   "execution_count": null,
   "metadata": {},
   "outputs": [],
   "source": [
    "print(a + b)"
   ]
  },
  {
   "cell_type": "code",
   "execution_count": null,
   "metadata": {},
   "outputs": [],
   "source": [
    "print(c - d)"
   ]
  },
  {
   "cell_type": "code",
   "execution_count": null,
   "metadata": {},
   "outputs": [],
   "source": [
    "print(e * f)"
   ]
  },
  {
   "cell_type": "code",
   "execution_count": null,
   "metadata": {},
   "outputs": [],
   "source": [
    "print(g / h)"
   ]
  },
  {
   "cell_type": "markdown",
   "metadata": {},
   "source": [
    "**What do you see in the operation `g / h`?**\n",
    "- In Python the symbol `/` is used for floating point division.\n",
    "- For integer division, use instead `//`."
   ]
  },
  {
   "cell_type": "markdown",
   "metadata": {},
   "source": [
    "**Bạn thấy gì trong phép toán g / h?**\n",
    "- Trong Python, ký hiệu / được sử dụng cho phép chia số thực (floating point division).\n",
    "- Để chia lấy phần nguyên, hãy sử dụng // thay thế."
   ]
  },
  {
   "cell_type": "markdown",
   "metadata": {},
   "source": [
    "### Floating Point Numbers / Số Thực\n",
    "\n",
    "* The float type in Python designates a floating-point number.\n",
    "* Float values are specified with a decimal point.\n",
    "* A floating-point number is accurate up to 15 decimal places.\n",
    "* The character e or E followed by a positive or negative integer may be appended to specify scientific notation."
   ]
  },
  {
   "cell_type": "markdown",
   "metadata": {},
   "source": [
    "* Kiểu float trong Python dùng để biểu diễn số thực.\n",
    "* Giá trị float được xác định bằng dấu thập phân.\n",
    "* Số thực có độ chính xác lên đến 15 chữ số thập phân.\n",
    "* Ký tự e hoặc E theo sau bởi một số nguyên dương hoặc âm có thể được thêm vào để biểu diễn theo ký hiệu khoa học."
   ]
  },
  {
   "cell_type": "code",
   "execution_count": null,
   "metadata": {},
   "outputs": [],
   "source": [
    "print(type(7.94))\n",
    "print(type(.56))\n",
    "print(type(56.))\n",
    "print(type(2.6e-5))"
   ]
  },
  {
   "cell_type": "code",
   "execution_count": null,
   "metadata": {},
   "outputs": [],
   "source": [
    "a = 0.1234567890123456789\n",
    "print(a, \"is of type\", type(a))\n",
    "print(a, \"is float?\", isinstance(a, float))"
   ]
  },
  {
   "cell_type": "markdown",
   "metadata": {},
   "source": [
    "* Floating point numbers are represented internally as binary (base-2) fractions.\n",
    "* Most decimal fractions cannot be represented exactly as binary fractions, so in most cases the internal representation of a floating-point number is an approximation of the actual value."
   ]
  },
  {
   "cell_type": "markdown",
   "metadata": {},
   "source": [
    "* Số thực được biểu diễn nội bộ dưới dạng phân số nhị phân (cơ số 2).\n",
    "* Hầu hết các phân số thập phân không thể được biểu diễn chính xác dưới dạng phân số nhị phân, vì vậy trong hầu hết các trường hợp, biểu diễn nội bộ của một số thực chỉ là một xấp xỉ của giá trị thực tế."
   ]
  },
  {
   "cell_type": "markdown",
   "metadata": {},
   "source": [
    "## Conditionals / Cấu trúc điều kiện"
   ]
  },
  {
   "cell_type": "markdown",
   "metadata": {},
   "source": [
    "As their name indicates, conditionals are a way to execute code depending on whether a condition is True or False. As in other languages, Python supports `if` and `else` but `else if` is contracted into `elif`, as the example below demonstrates."
   ]
  },
  {
   "cell_type": "markdown",
   "metadata": {},
   "source": [
    "Như tên gọi của chúng, câu lệnh điều kiện là một cách để thực thi mã tùy thuộc vào việc một điều kiện là True hay False. Giống như các ngôn ngữ khác, Python hỗ trợ if và else, nhưng else if được viết gọn thành elif, như ví dụ dưới đây minh họa."
   ]
  },
  {
   "cell_type": "code",
   "execution_count": null,
   "metadata": {},
   "outputs": [],
   "source": [
    "my_variable = 5\n",
    "if my_variable < 0:\n",
    "    print(\"negative\")\n",
    "elif my_variable == 0:\n",
    "    print(\"null\")\n",
    "else: # my_variable > 0\n",
    "    print(\"positive\")"
   ]
  },
  {
   "cell_type": "markdown",
   "metadata": {},
   "source": [
    "Here `<` and `>` are the strict `less` and `greater than` operators, while `==` is the equality operator (not to be confused with `=`, the variable assignment operator). The operators `<=` and `>=` can be used for less (resp. greater) than or equal comparisons."
   ]
  },
  {
   "cell_type": "markdown",
   "metadata": {},
   "source": [
    "Ở đây, < và > là các toán tử so sánh nghiêm ngặt \"nhỏ hơn\" và \"lớn hơn\", trong khi == là toán tử so sánh bằng (không nên nhầm lẫn với =, toán tử gán giá trị cho biến). Các toán tử <= và >= được sử dụng để so sánh \"nhỏ hơn hoặc bằng\" và \"lớn hơn hoặc bằng\"."
   ]
  },
  {
   "cell_type": "markdown",
   "metadata": {},
   "source": [
    "## Boolean"
   ]
  },
  {
   "cell_type": "markdown",
   "metadata": {},
   "source": [
    "Booleans are used to store two values i.e True and False"
   ]
  },
  {
   "cell_type": "markdown",
   "metadata": {},
   "source": [
    "Giá trị Boolean được sử dụng để lưu trữ hai giá trị: True và False."
   ]
  },
  {
   "cell_type": "code",
   "execution_count": null,
   "metadata": {},
   "outputs": [],
   "source": [
    "true=True\n",
    "print(type(true))\n",
    "true=123\n",
    "type(true)"
   ]
  },
  {
   "cell_type": "code",
   "execution_count": null,
   "metadata": {},
   "outputs": [],
   "source": [
    "type(False)"
   ]
  },
  {
   "cell_type": "markdown",
   "metadata": {},
   "source": [
    "Booleans can be used when there is a need to compare two or more values.\n",
    "\n",
    "```python\n",
    "   x == y    # x is equal to y\n",
    "   x != y    # x is not equal to y\n",
    "   x > y     # x is greater than y\n",
    "   x < y     # x is less than y\n",
    "   x >= y    # x is greater than or equal to y\n",
    "   x <= y    # x is less than or equal to y\n",
    "```"
   ]
  },
  {
   "cell_type": "markdown",
   "metadata": {},
   "source": [
    "Giá trị Boolean có thể được sử dụng khi cần so sánh hai hoặc nhiều giá trị.\n",
    "\n",
    "```python\n",
    "   x == y    # x bằng y  \n",
    "   x != y    # x không bằng y  \n",
    "   x > y     # x lớn hơn y  \n",
    "   x < y     # x nhỏ hơn y  \n",
    "   x >= y    # x lớn hơn hoặc bằng y  \n",
    "   x <= y    # x nhỏ hơn hoặc bằng y  \n",
    "```"
   ]
  },
  {
   "cell_type": "code",
   "execution_count": null,
   "metadata": {},
   "outputs": [],
   "source": [
    "print(3==4)\n",
    "print(bool(3==4))"
   ]
  },
  {
   "cell_type": "markdown",
   "metadata": {},
   "source": [
    "## Lists "
   ]
  },
  {
   "cell_type": "markdown",
   "metadata": {},
   "source": [
    "Lists are a container type for ordered sequences of elements. Lists can be initialized empty"
   ]
  },
  {
   "cell_type": "markdown",
   "metadata": {},
   "source": [
    "Danh sách (List) là một kiểu dữ liệu dùng để lưu trữ một dãy các phần tử có thứ tự. Danh sách có thể được khởi tạo rỗng."
   ]
  },
  {
   "cell_type": "code",
   "execution_count": null,
   "metadata": {},
   "outputs": [],
   "source": [
    "my_list = []"
   ]
  },
  {
   "cell_type": "markdown",
   "metadata": {},
   "source": [
    "or with some initial elements"
   ]
  },
  {
   "cell_type": "markdown",
   "metadata": {},
   "source": [
    "hoặc với một số phần tử ban đầu."
   ]
  },
  {
   "cell_type": "code",
   "execution_count": null,
   "metadata": {},
   "outputs": [],
   "source": [
    "my_list = [1, 2, 3]"
   ]
  },
  {
   "cell_type": "markdown",
   "metadata": {},
   "source": [
    "Lists have a dynamic size and elements can be added (appended) to them"
   ]
  },
  {
   "cell_type": "markdown",
   "metadata": {},
   "source": [
    "List có kích thước động và có thể thêm phần tử mới bằng phương thức append()"
   ]
  },
  {
   "cell_type": "code",
   "execution_count": null,
   "metadata": {},
   "outputs": [],
   "source": [
    "my_list.append(4)\n",
    "my_list"
   ]
  },
  {
   "cell_type": "markdown",
   "metadata": {},
   "source": [
    "We can access individual elements of a list (indexing starts from 0)"
   ]
  },
  {
   "cell_type": "markdown",
   "metadata": {},
   "source": [
    "Chúng ta có thể truy cập từng phần tử trong list (chỉ mục bắt đầu từ 0)."
   ]
  },
  {
   "cell_type": "code",
   "execution_count": null,
   "metadata": {},
   "outputs": [],
   "source": [
    "my_list[2]"
   ]
  },
  {
   "cell_type": "markdown",
   "metadata": {},
   "source": [
    "We can access \"slices\" of a list using `my_list[i:j]` where `i` is the start of the slice (again, indexing starts from 0) and `j` the end of the slice. For instance:"
   ]
  },
  {
   "cell_type": "markdown",
   "metadata": {},
   "source": [
    "Chúng ta có thể truy cập \"các lát cắt\" (slices) của danh sách bằng cách sử dụng my_list[i:j], trong đó i là vị trí bắt đầu của lát cắt (chỉ mục bắt đầu từ 0) và j là vị trí kết thúc. Ví dụ:"
   ]
  },
  {
   "cell_type": "code",
   "execution_count": null,
   "metadata": {},
   "outputs": [],
   "source": [
    "my_list[1:3]"
   ]
  },
  {
   "cell_type": "markdown",
   "metadata": {},
   "source": [
    "Omitting the second index means that the slice shoud run until the end of the list"
   ]
  },
  {
   "cell_type": "markdown",
   "metadata": {},
   "source": [
    "Bỏ qua chỉ mục thứ hai có nghĩa là lát cắt sẽ chạy đến cuối danh sách."
   ]
  },
  {
   "cell_type": "code",
   "execution_count": null,
   "metadata": {},
   "outputs": [],
   "source": [
    "my_list[1:]"
   ]
  },
  {
   "cell_type": "markdown",
   "metadata": {},
   "source": [
    "We can check if an element is in the list using `in`"
   ]
  },
  {
   "cell_type": "markdown",
   "metadata": {},
   "source": [
    "Chúng ta có thể kiểm tra xem một phần tử có trong danh sách hay không bằng cách sử dụng toán tử in."
   ]
  },
  {
   "cell_type": "code",
   "execution_count": null,
   "metadata": {},
   "outputs": [],
   "source": [
    "5 in my_list"
   ]
  },
  {
   "cell_type": "markdown",
   "metadata": {},
   "source": [
    "The length of a list can be obtained using the `len` function"
   ]
  },
  {
   "cell_type": "markdown",
   "metadata": {},
   "source": [
    "Độ dài của danh sách có thể được lấy bằng hàm len()."
   ]
  },
  {
   "cell_type": "code",
   "execution_count": null,
   "metadata": {},
   "outputs": [],
   "source": [
    "len(my_list)"
   ]
  },
  {
   "cell_type": "markdown",
   "metadata": {},
   "source": [
    "## Strings / Chuỗi"
   ]
  },
  {
   "cell_type": "markdown",
   "metadata": {},
   "source": [
    "Strings are used to store text. They can delimited using either single quotes or double quotes"
   ]
  },
  {
   "cell_type": "markdown",
   "metadata": {},
   "source": [
    "Chuỗi (String) được sử dụng để lưu trữ văn bản. Chúng có thể được giới hạn bằng dấu nháy đơn (') hoặc dấu nháy kép (\")."
   ]
  },
  {
   "cell_type": "code",
   "execution_count": null,
   "metadata": {},
   "outputs": [],
   "source": [
    "string1 = \"some text\"\n",
    "string2 = 'some other text'"
   ]
  },
  {
   "cell_type": "markdown",
   "metadata": {},
   "source": [
    "Strings behave similarly to lists. As such we can access individual elements in exactly the same way"
   ]
  },
  {
   "cell_type": "markdown",
   "metadata": {},
   "source": [
    "Chuỗi hoạt động tương tự như danh sách. Do đó, chúng ta có thể truy cập từng phần tử theo cùng một cách."
   ]
  },
  {
   "cell_type": "code",
   "execution_count": null,
   "metadata": {},
   "outputs": [],
   "source": [
    "string1[3]"
   ]
  },
  {
   "cell_type": "markdown",
   "metadata": {},
   "source": [
    "and similarly for slices"
   ]
  },
  {
   "cell_type": "markdown",
   "metadata": {},
   "source": [
    "và tương tự đối với các lát cắt (slices)."
   ]
  },
  {
   "cell_type": "code",
   "execution_count": null,
   "metadata": {},
   "outputs": [],
   "source": [
    "string1[5:]"
   ]
  },
  {
   "cell_type": "markdown",
   "metadata": {},
   "source": [
    "String concatenation is performed using the `+` operator"
   ]
  },
  {
   "cell_type": "markdown",
   "metadata": {},
   "source": [
    "Nối chuỗi được thực hiện bằng toán tử +."
   ]
  },
  {
   "cell_type": "code",
   "execution_count": null,
   "metadata": {},
   "outputs": [],
   "source": [
    "string1 + \" \" + string2"
   ]
  },
  {
   "cell_type": "markdown",
   "metadata": {},
   "source": [
    "## Loops / Vòng lặp"
   ]
  },
  {
   "cell_type": "markdown",
   "metadata": {},
   "source": [
    "Loops are a way to execute a block of code multiple times. There are two main types of loops: while loops and for loops."
   ]
  },
  {
   "cell_type": "markdown",
   "metadata": {},
   "source": [
    "Vòng lặp là cách để thực thi một khối mã nhiều lần. Có hai loại vòng lặp chính: vòng lặp while và vòng lặp for."
   ]
  },
  {
   "cell_type": "code",
   "execution_count": null,
   "metadata": {},
   "outputs": [],
   "source": [
    "i = 0\n",
    "while i < len(my_list):\n",
    "    print(my_list[i])\n",
    "    i += 1 # equivalent to i = i + 1"
   ]
  },
  {
   "cell_type": "code",
   "execution_count": null,
   "metadata": {},
   "outputs": [],
   "source": [
    "for i in range(len(my_list)):\n",
    "    print(my_list[i])"
   ]
  },
  {
   "cell_type": "markdown",
   "metadata": {},
   "source": [
    "If the goal is simply to iterate over a list, we can do so directly as follows"
   ]
  },
  {
   "cell_type": "markdown",
   "metadata": {},
   "source": [
    "Nếu mục tiêu chỉ là duyệt qua một danh sách, chúng ta có thể làm như sau:"
   ]
  },
  {
   "cell_type": "code",
   "execution_count": null,
   "metadata": {},
   "outputs": [],
   "source": [
    "for element in my_list: # for-each loop\n",
    "    print(element)"
   ]
  },
  {
   "cell_type": "markdown",
   "metadata": {},
   "source": [
    "## Functions / Hàm"
   ]
  },
  {
   "cell_type": "markdown",
   "metadata": {},
   "source": [
    "To improve code readability, it is common to separate the code into different blocks, responsible for performing precise actions: functions. A function takes some inputs and process them to return some outputs."
   ]
  },
  {
   "cell_type": "markdown",
   "metadata": {},
   "source": [
    "Để cải thiện khả năng đọc mã, người ta thường tách mã thành các khối khác nhau, chịu trách nhiệm thực hiện các hành động cụ thể: hàm (functions). Một hàm nhận vào một số đầu vào và xử lý chúng để trả về một số đầu ra."
   ]
  },
  {
   "cell_type": "code",
   "execution_count": null,
   "metadata": {},
   "outputs": [],
   "source": [
    "def square(x):\n",
    "    return x ** 2\n",
    "\n",
    "def multiply(a, b):\n",
    "    return a * b\n",
    "\n",
    "# Functions can be composed. \n",
    "# Hàm có thể được kết hợp.\n",
    "square(multiply(3, 2))"
   ]
  },
  {
   "cell_type": "markdown",
   "metadata": {},
   "source": [
    "To improve code readability, it is sometimes useful to explicitly name the arguments"
   ]
  },
  {
   "cell_type": "markdown",
   "metadata": {},
   "source": [
    "Để cải thiện khả năng đọc mã, đôi khi việc đặt tên rõ ràng cho các đối số là hữu ích."
   ]
  },
  {
   "cell_type": "code",
   "execution_count": null,
   "metadata": {},
   "outputs": [],
   "source": [
    "square(multiply(a=3, b=2))"
   ]
  },
  {
   "cell_type": "markdown",
   "metadata": {},
   "source": [
    "## Exercises / Bài tập"
   ]
  },
  {
   "cell_type": "markdown",
   "metadata": {},
   "source": [
    "**Exercise 1.** Using a conditional, write the [relu](https://en.wikipedia.org/wiki/Rectifier_(neural_networks)) function defined as follows\n",
    "\n",
    "Bài tập 1. Sử dụng câu lệnh điều kiện, hãy viết hàm ReLU được định nghĩa như sau:\n",
    "​\n",
    "\n",
    "$\\text{relu}(x) = \\left\\{\n",
    "   \\begin{array}{rl}\n",
    "     x, & \\text{if }  x \\ge 0 \\\\\n",
    "     0, & \\text{otherwise }.\n",
    "   \\end{array}\\right.$"
   ]
  },
  {
   "cell_type": "code",
   "execution_count": null,
   "metadata": {},
   "outputs": [],
   "source": [
    "def relu(x):\n",
    "    # Write your function here\n",
    "    return\n",
    "\n",
    "relu(-3)"
   ]
  },
  {
   "cell_type": "markdown",
   "metadata": {},
   "source": [
    "**Exercise 2.** Using a foor loop, write a function that computes the [Euclidean norm](https://en.wikipedia.org/wiki/Norm_(mathematics)#Euclidean_norm) of a vector, represented as a list.\n",
    "\n",
    "Bài tập 2. Sử dụng vòng lặp for, hãy viết một hàm tính chuẩn Euclid (Euclidean norm) của một vectơ được biểu diễn dưới dạng danh sách."
   ]
  },
  {
   "cell_type": "code",
   "execution_count": null,
   "metadata": {},
   "outputs": [],
   "source": [
    "def euclidean_norm(vector):\n",
    "    # Write your function here\n",
    "    return\n",
    "\n",
    "import numpy as np\n",
    "my_vector = [0.5, -1.2, 3.3, 4.5]\n",
    "# The result should be roughly 5.729746940310715\n",
    "euclidean_norm(my_vector)"
   ]
  },
  {
   "cell_type": "markdown",
   "metadata": {},
   "source": [
    "**Exercise 3.** Using a for loop and a conditional, write a function that returns the maximum value in a vector.\n",
    "\n",
    "Bài tập 3. Sử dụng vòng lặp for và câu lệnh điều kiện, hãy viết một hàm trả về giá trị lớn nhất trong một vectơ (danh sách)."
   ]
  },
  {
   "cell_type": "code",
   "execution_count": null,
   "metadata": {},
   "outputs": [],
   "source": [
    "def vector_maximum(vector):\n",
    "    # Write your function here\n",
    "    return"
   ]
  },
  {
   "cell_type": "markdown",
   "metadata": {},
   "source": [
    "**Bonus exercise.** if time permits, write a function that sorts a list in ascending order (from smaller to bigger) using the [bubble sort](https://en.wikipedia.org/wiki/Bubble_sort) algorithm.\n",
    "\n",
    "Bài tập bổ sung. Nếu có thời gian, hãy viết một hàm sắp xếp danh sách theo thứ tự tăng dần (từ nhỏ đến lớn) bằng thuật toán Bubble Sort."
   ]
  },
  {
   "cell_type": "code",
   "execution_count": null,
   "metadata": {},
   "outputs": [],
   "source": [
    "def bubble_sort(my_list):\n",
    "    # Write your function here\n",
    "    return\n",
    "\n",
    "my_list = [1, -3, 3, 2]\n",
    "# Should return [-3, 1, 2, 3]\n",
    "bubble_sort(my_list)"
   ]
  },
  {
   "cell_type": "markdown",
   "metadata": {},
   "source": [
    "### Arrays / Mảng"
   ]
  },
  {
   "cell_type": "markdown",
   "metadata": {},
   "source": [
    "* Mảng là một cấu trúc dữ liệu lưu trữ các phần tử cùng kiểu dữ liệu tại các vị trí liên tiếp trong bộ nhớ. Trong Python, chúng mình thường sử dụng module 'array' hoặc thư viện NumPy để làm việc với mảng. \n",
    "* Một ví dụ thực tế có thể kể đến của Mảng (Arrays) là bãi đỗ xe. Trong bãi đỗ xe sẽ có các ô đỗ xe riêng, thường đều được gán một con số khác biệt nhất định. Những ô này thường chứa các phương tiện khác nhau, ví dụ như có những ô đang chứa ô tô, xe máy, cũng có thể có những ô đang trống. Nhưng không phải tất cả các bãi đỗ xe đều giống nhau. Có thể có bãi chỉ dành cho xe ô tô và xe đạp không được phép đỗ tại đó. Một bãi đỗ xe có giới hạn tương ứng với cấu trúc dữ liệu mảng có kiểu dữ liệu xác định, chỉ cho phép lưu trữ các phần tử có cùng kiểu dữ liệu. \n"
   ]
  },
  {
   "cell_type": "markdown",
   "metadata": {},
   "source": [
    "* Thao tác cơ bản đầu tiên với mảng: Chèn phần tử (Insertion)\n",
    "* Thêm phần tử vào mảng có thể được thực hiện ở cuối mảng, đầu mảng hoặc tại một vị trí cụ thể."
   ]
  },
{
   "cell_type": "code",
   "execution_count": null,
   "metadata": {},
   "outputs": [],
   "source": [
    "my_array = [1,2,3,4]\n",
    "my_array.append(5)      #Thêm vào cuối: [1,2,3,4,5] \n",
    "my_array.insert(0,0)    #Thêm vào vị trí 0: [0,1,2,3,4,5] \n",
    "my_array.insert(3,2.5)  #Thêm vào vị trí 3: [0,1,2,2.5,3,4,5]"
   ]
  },
  {
   "cell_type": "markdown",
   "metadata": {},
   "source": [
    "## Going further / Đi xa hơn"
   ]
  },
  {
   "cell_type": "markdown",
   "metadata": {},
   "source": [
    "Clearly, it is impossible to cover all the language features in this short introduction. To go further, we recommend the following resources:\n",
    "\n",
    "* List of Python [tutorials](https://wiki.python.org/moin/BeginnersGuide/Programmers)\n",
    "* 2-hour [course](https://www.youtube.com/watch?v=d9I6owcZ5zQ&ab_channel=VniTeach-Gi%C3%A1ovi%C3%AAn4.0) on Youtube\n"
   ]
  },
  {
   "cell_type": "markdown",
   "metadata": {},
   "source": [
    "Khoá học mình không thể bao quát tất cả các tính năng của ngôn ngữ trong phần giới thiệu ngắn này. Để tìm hiểu sâu hơn, chúng tôi khuyến nghị các tài nguyên sau:\n",
    "\n",
    "* Danh sách các [hướng dẫn Python](https://wiki.python.org/moin/BeginnersGuide/Programmers)\n",
    "* [khóa học](https://www.youtube.com/watch?v=d9I6owcZ5zQ&ab_channel=VniTeach-Gi%C3%A1ovi%C3%AAn4.0) 2 giờ trên Youtube\n",
    "\n",
    "\n",
    "\n",
    "\n",
    "\n"
   ]
  }
 ],
 "metadata": {
  "kernelspec": {
   "display_name": "Python 3",
   "language": "python",
   "name": "python3"
  },
  "language_info": {
   "codemirror_mode": {
    "name": "ipython",
    "version": 3
   },
   "file_extension": ".py",
   "mimetype": "text/x-python",
   "name": "python",
   "nbconvert_exporter": "python",
   "pygments_lexer": "ipython3",
   "version": "3.11.2"
  }
 },
 "nbformat": 4,
 "nbformat_minor": 2
}
